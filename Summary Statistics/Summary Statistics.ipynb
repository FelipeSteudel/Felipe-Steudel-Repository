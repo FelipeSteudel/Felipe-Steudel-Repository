{
 "cells": [
  {
   "cell_type": "markdown",
   "id": "bd3f17ce",
   "metadata": {},
   "source": [
    "### 5 Number Summary\n",
    "##### Step 1:\n",
    "Import all required libraries to do the work."
   ]
  },
  {
   "cell_type": "code",
   "execution_count": 1,
   "id": "d98c7d53",
   "metadata": {},
   "outputs": [],
   "source": [
    "import pandas as pd # pandas trabalha com datasets\n",
    "import numpy as np\n",
    "import statistics as stats\n",
    "import matplotlib.pyplot as plt\n",
    "import seaborn as sns"
   ]
  },
  {
   "cell_type": "markdown",
   "id": "c1e8aae4",
   "metadata": {},
   "source": [
    "### Initial Observation"
   ]
  },
  {
   "cell_type": "code",
   "execution_count": 15,
   "id": "c421c4f0",
   "metadata": {},
   "outputs": [],
   "source": [
    "# Initialise a variable to store the  dataset\n",
    "# to  access a function from a library\n",
    "# we need to call on the library aronym: 'pd'\n",
    "\n",
    "dataset = pd.read_csv(\"50_Startups.csv\")"
   ]
  },
  {
   "cell_type": "markdown",
   "id": "eb57e466",
   "metadata": {},
   "source": [
    "#### Observes the first 5 records"
   ]
  },
  {
   "cell_type": "code",
   "execution_count": 3,
   "id": "aa9a5727",
   "metadata": {},
   "outputs": [
    {
     "data": {
      "text/html": [
       "<div>\n",
       "<style scoped>\n",
       "    .dataframe tbody tr th:only-of-type {\n",
       "        vertical-align: middle;\n",
       "    }\n",
       "\n",
       "    .dataframe tbody tr th {\n",
       "        vertical-align: top;\n",
       "    }\n",
       "\n",
       "    .dataframe thead th {\n",
       "        text-align: right;\n",
       "    }\n",
       "</style>\n",
       "<table border=\"1\" class=\"dataframe\">\n",
       "  <thead>\n",
       "    <tr style=\"text-align: right;\">\n",
       "      <th></th>\n",
       "      <th>R&amp;D Spend</th>\n",
       "      <th>Administration</th>\n",
       "      <th>Marketing Spend</th>\n",
       "      <th>State</th>\n",
       "      <th>Profit</th>\n",
       "    </tr>\n",
       "  </thead>\n",
       "  <tbody>\n",
       "    <tr>\n",
       "      <th>0</th>\n",
       "      <td>165349.20</td>\n",
       "      <td>136897.80</td>\n",
       "      <td>471784.10</td>\n",
       "      <td>New York</td>\n",
       "      <td>191792.06</td>\n",
       "    </tr>\n",
       "    <tr>\n",
       "      <th>1</th>\n",
       "      <td>162597.70</td>\n",
       "      <td>151377.59</td>\n",
       "      <td>443898.53</td>\n",
       "      <td>California</td>\n",
       "      <td>191792.06</td>\n",
       "    </tr>\n",
       "    <tr>\n",
       "      <th>2</th>\n",
       "      <td>153441.51</td>\n",
       "      <td>101145.55</td>\n",
       "      <td>407934.54</td>\n",
       "      <td>Florida</td>\n",
       "      <td>191050.39</td>\n",
       "    </tr>\n",
       "    <tr>\n",
       "      <th>3</th>\n",
       "      <td>144372.41</td>\n",
       "      <td>118671.85</td>\n",
       "      <td>383199.62</td>\n",
       "      <td>New York</td>\n",
       "      <td>182901.99</td>\n",
       "    </tr>\n",
       "    <tr>\n",
       "      <th>4</th>\n",
       "      <td>142107.34</td>\n",
       "      <td>91391.77</td>\n",
       "      <td>366168.42</td>\n",
       "      <td>Florida</td>\n",
       "      <td>166187.94</td>\n",
       "    </tr>\n",
       "  </tbody>\n",
       "</table>\n",
       "</div>"
      ],
      "text/plain": [
       "   R&D Spend  Administration  Marketing Spend       State     Profit\n",
       "0  165349.20       136897.80        471784.10    New York  191792.06\n",
       "1  162597.70       151377.59        443898.53  California  191792.06\n",
       "2  153441.51       101145.55        407934.54     Florida  191050.39\n",
       "3  144372.41       118671.85        383199.62    New York  182901.99\n",
       "4  142107.34        91391.77        366168.42     Florida  166187.94"
      ]
     },
     "execution_count": 3,
     "metadata": {},
     "output_type": "execute_result"
    }
   ],
   "source": [
    "dataset.head()"
   ]
  },
  {
   "cell_type": "markdown",
   "id": "4472b710",
   "metadata": {},
   "source": [
    "### terminating and no terminating\n",
    "###### Terminsting Float\n",
    "\n",
    "Decimal place integer that have leading zeros 65.3480000000 => 65.348\n",
    "\n",
    "##### non-Terminating float\n",
    "\n",
    "Decimal place integer that not have trailing zeros, de number is recursive 65.645343564575463634345\n",
    "\n",
    "Nonterminating - 32 bits\n",
    "\n",
    "32bits values they cn only contain 32bits of information thus losing some value (precision) at the end, 65.645343564575"
   ]
  },
  {
   "cell_type": "code",
   "execution_count": 4,
   "id": "eb92cdf5",
   "metadata": {},
   "outputs": [
    {
     "name": "stdout",
     "output_type": "stream",
     "text": [
      "<class 'pandas.core.frame.DataFrame'>\n",
      "RangeIndex: 50 entries, 0 to 49\n",
      "Data columns (total 5 columns):\n",
      " #   Column           Non-Null Count  Dtype  \n",
      "---  ------           --------------  -----  \n",
      " 0   R&D Spend        50 non-null     float64\n",
      " 1   Administration   50 non-null     float64\n",
      " 2   Marketing Spend  50 non-null     float64\n",
      " 3   State            50 non-null     object \n",
      " 4   Profit           50 non-null     float64\n",
      "dtypes: float64(4), object(1)\n",
      "memory usage: 2.1+ KB\n"
     ]
    }
   ],
   "source": [
    "#To identify the data types contained in our dataset\n",
    "#we call on the ./info()\n",
    "\n",
    "dataset.info()"
   ]
  },
  {
   "cell_type": "markdown",
   "id": "0aecdabb",
   "metadata": {},
   "source": [
    "#### The 5 Number Summary\n",
    "\n",
    "We need to understand de data distribution\n",
    "We start by getting all possible statitical operations, this will help us  to be better equipped to begin the data exploration with some contextual backkground"
   ]
  },
  {
   "cell_type": "code",
   "execution_count": 5,
   "id": "1ea6be5c",
   "metadata": {},
   "outputs": [
    {
     "data": {
      "text/html": [
       "<div>\n",
       "<style scoped>\n",
       "    .dataframe tbody tr th:only-of-type {\n",
       "        vertical-align: middle;\n",
       "    }\n",
       "\n",
       "    .dataframe tbody tr th {\n",
       "        vertical-align: top;\n",
       "    }\n",
       "\n",
       "    .dataframe thead th {\n",
       "        text-align: right;\n",
       "    }\n",
       "</style>\n",
       "<table border=\"1\" class=\"dataframe\">\n",
       "  <thead>\n",
       "    <tr style=\"text-align: right;\">\n",
       "      <th></th>\n",
       "      <th>R&amp;D Spend</th>\n",
       "      <th>Administration</th>\n",
       "      <th>Marketing Spend</th>\n",
       "      <th>Profit</th>\n",
       "    </tr>\n",
       "  </thead>\n",
       "  <tbody>\n",
       "    <tr>\n",
       "      <th>count</th>\n",
       "      <td>50.000000</td>\n",
       "      <td>50.000000</td>\n",
       "      <td>50.000000</td>\n",
       "      <td>50.000000</td>\n",
       "    </tr>\n",
       "    <tr>\n",
       "      <th>mean</th>\n",
       "      <td>73721.615600</td>\n",
       "      <td>121344.639600</td>\n",
       "      <td>211025.097800</td>\n",
       "      <td>112003.243800</td>\n",
       "    </tr>\n",
       "    <tr>\n",
       "      <th>std</th>\n",
       "      <td>45902.256482</td>\n",
       "      <td>28017.802755</td>\n",
       "      <td>122290.310726</td>\n",
       "      <td>40287.142691</td>\n",
       "    </tr>\n",
       "    <tr>\n",
       "      <th>min</th>\n",
       "      <td>0.000000</td>\n",
       "      <td>51283.140000</td>\n",
       "      <td>0.000000</td>\n",
       "      <td>14681.400000</td>\n",
       "    </tr>\n",
       "    <tr>\n",
       "      <th>25%</th>\n",
       "      <td>39936.370000</td>\n",
       "      <td>103730.875000</td>\n",
       "      <td>129300.132500</td>\n",
       "      <td>90138.902500</td>\n",
       "    </tr>\n",
       "    <tr>\n",
       "      <th>50%</th>\n",
       "      <td>73051.080000</td>\n",
       "      <td>122699.795000</td>\n",
       "      <td>212716.240000</td>\n",
       "      <td>107978.190000</td>\n",
       "    </tr>\n",
       "    <tr>\n",
       "      <th>75%</th>\n",
       "      <td>101602.800000</td>\n",
       "      <td>144842.180000</td>\n",
       "      <td>299469.085000</td>\n",
       "      <td>139765.977500</td>\n",
       "    </tr>\n",
       "    <tr>\n",
       "      <th>max</th>\n",
       "      <td>165349.200000</td>\n",
       "      <td>182645.560000</td>\n",
       "      <td>471784.100000</td>\n",
       "      <td>191792.060000</td>\n",
       "    </tr>\n",
       "  </tbody>\n",
       "</table>\n",
       "</div>"
      ],
      "text/plain": [
       "           R&D Spend  Administration  Marketing Spend         Profit\n",
       "count      50.000000       50.000000        50.000000      50.000000\n",
       "mean    73721.615600   121344.639600    211025.097800  112003.243800\n",
       "std     45902.256482    28017.802755    122290.310726   40287.142691\n",
       "min         0.000000    51283.140000         0.000000   14681.400000\n",
       "25%     39936.370000   103730.875000    129300.132500   90138.902500\n",
       "50%     73051.080000   122699.795000    212716.240000  107978.190000\n",
       "75%    101602.800000   144842.180000    299469.085000  139765.977500\n",
       "max    165349.200000   182645.560000    471784.100000  191792.060000"
      ]
     },
     "execution_count": 5,
     "metadata": {},
     "output_type": "execute_result"
    }
   ],
   "source": [
    "dataset.describe()"
   ]
  },
  {
   "cell_type": "markdown",
   "id": "e839f817",
   "metadata": {},
   "source": [
    "## Create Functions\n",
    " \n",
    " Write functions  that give us insight using the 5 number summary\n",
    " \n",
    " In order to crete functions we  have to follow a number of steps\n",
    " \n",
    "### Step 1: Instanciate a function\n",
    "\n",
    "key word 'def' followed by the function name, () ad :\n",
    "\n",
    "### Step 2:  Input Variables\n",
    "\n",
    "Pass in the dataset variable to operate on the present values in valuable\n",
    "\n",
    "i.e functionName(inputVariable)\n",
    "\n",
    "### Step 3: Create an Instruction Manual (Logic)\n",
    "\n",
    "The set of instructions ill define thee behaviour of our function and  it's aplicability to certas types of data\n",
    "\n",
    "i.e def functionName(inputVariable):\n",
    "            functionLogic Here\n",
    "\n",
    "### Step 4:  return the output to the user\n",
    "Using \"Return\" key word\n",
    "\n",
    "### Mean\n",
    "\n",
    "mean = summation Xi / N"
   ]
  },
  {
   "cell_type": "code",
   "execution_count": 6,
   "id": "f0416a82",
   "metadata": {},
   "outputs": [],
   "source": [
    "def calc_mean(variable):\n",
    "    #You should implemet some security logic or error mitigation\n",
    "    \n",
    "    #Verifica se a array está vazia\n",
    "    if len(variable)  == 0:\n",
    "        #check the lenght of the data\n",
    "        return None\n",
    "    \n",
    "    #Calculo de mean = Soma todos os valores da array e divide pela número de elementos\n",
    "    mean = sum(variable) / len(variable)\n",
    "    return mean\n"
   ]
  },
  {
   "cell_type": "code",
   "execution_count": 7,
   "id": "d2fedbe5",
   "metadata": {},
   "outputs": [
    {
     "data": {
      "text/html": [
       "<div>\n",
       "<style scoped>\n",
       "    .dataframe tbody tr th:only-of-type {\n",
       "        vertical-align: middle;\n",
       "    }\n",
       "\n",
       "    .dataframe tbody tr th {\n",
       "        vertical-align: top;\n",
       "    }\n",
       "\n",
       "    .dataframe thead th {\n",
       "        text-align: right;\n",
       "    }\n",
       "</style>\n",
       "<table border=\"1\" class=\"dataframe\">\n",
       "  <thead>\n",
       "    <tr style=\"text-align: right;\">\n",
       "      <th></th>\n",
       "      <th>R&amp;D Spend</th>\n",
       "      <th>Administration</th>\n",
       "      <th>Marketing Spend</th>\n",
       "      <th>State</th>\n",
       "      <th>Profit</th>\n",
       "    </tr>\n",
       "  </thead>\n",
       "  <tbody>\n",
       "    <tr>\n",
       "      <th>0</th>\n",
       "      <td>165349.2</td>\n",
       "      <td>136897.8</td>\n",
       "      <td>471784.1</td>\n",
       "      <td>New York</td>\n",
       "      <td>191792.06</td>\n",
       "    </tr>\n",
       "  </tbody>\n",
       "</table>\n",
       "</div>"
      ],
      "text/plain": [
       "   R&D Spend  Administration  Marketing Spend     State     Profit\n",
       "0   165349.2        136897.8         471784.1  New York  191792.06"
      ]
     },
     "execution_count": 7,
     "metadata": {},
     "output_type": "execute_result"
    }
   ],
   "source": [
    "dataset.head(1)"
   ]
  },
  {
   "cell_type": "code",
   "execution_count": 8,
   "id": "60cdebbf",
   "metadata": {},
   "outputs": [
    {
     "data": {
      "text/plain": [
       "112003.24380000001"
      ]
     },
     "execution_count": 8,
     "metadata": {},
     "output_type": "execute_result"
    }
   ],
   "source": [
    "calc_mean(dataset[\"Profit\"])"
   ]
  },
  {
   "cell_type": "markdown",
   "id": "db42935c",
   "metadata": {},
   "source": [
    "### Median\n",
    "the middle value in an array\n",
    "If the array is odd return the middle value"
   ]
  },
  {
   "cell_type": "code",
   "execution_count": 9,
   "id": "edf9d1bb",
   "metadata": {},
   "outputs": [],
   "source": [
    "def calc_median(variable):\n",
    "    #You should implemet some security logic or error mitigation\n",
    "    \n",
    "    #Verifica se a array está vazia\n",
    "    if len(variable)  == 0:\n",
    "        #check the lenght of the data\n",
    "        return None\n",
    " \n",
    "    #Coloca os valores em ordem crescente\n",
    "    variable = variable.sort_values(ignore_index=True)\n",
    "    \n",
    "    n = len(variable)\n",
    "    \n",
    "    # usar o modulo para checar se é par ou impar\n",
    "    if n % 2 == 0:\n",
    "        # a condição é se o comprimento da array retornada \n",
    "        \n",
    "        mid1 = variable[n // 2 - 1]\n",
    "        mid2 = variable[n // 2]\n",
    "        # calcular o median\n",
    "        median = ((mid1 + mid2) / 2)\n",
    "        return median\n",
    "    # Senão retorna o valor  \n",
    "    else:\n",
    "        median = variable[n // 2]\n",
    "        return median"
   ]
  },
  {
   "cell_type": "code",
   "execution_count": 10,
   "id": "6ef841a2",
   "metadata": {},
   "outputs": [
    {
     "data": {
      "text/plain": [
       "107978.19"
      ]
     },
     "execution_count": 10,
     "metadata": {},
     "output_type": "execute_result"
    }
   ],
   "source": [
    "calc_median(dataset[\"Profit\"])"
   ]
  },
  {
   "cell_type": "code",
   "execution_count": 11,
   "id": "40ec291a",
   "metadata": {},
   "outputs": [],
   "source": [
    "def calc_mode(variable):\n",
    "    #You should implemet some security logic or error mitigation\n",
    "    \n",
    "    if len(variable)  == 0:\n",
    "        #check the lenght of the data\n",
    "        return None\n",
    "        \n",
    "    #Contar quantas vezes algo existe\n",
    "    #Parapegar o numero de ocorrencias, temos que usar um Dicionario\n",
    "    #Dicionarios permitem mapearmos o par key:value\n",
    "    num_freq = {}\n",
    "    \n",
    "    #Interage atraves de todos os dados e adiciona o numer de vezes que cada numero ocorre\n",
    "    #No Dicionario num_freq sua chave é o valor de variable e seu valor sera a frequencia que a chave aparece\n",
    "    for num in variable:\n",
    "        #precisa validar o numero em cada interação\n",
    "        #Checa quantas vezes o valor esta presenta na entrada de uma variavel\n",
    "        #Nós precisamos interagir e validar cada valor separadamente\n",
    "        if num in num_freq:\n",
    "            \n",
    "            #Se o numero da entrada da variável existe no dicionário\n",
    "            #Adicionamos 1 ao seu contador\n",
    "            num_freq[num] += 1\n",
    "            \n",
    "            #Senao criamos uma nova entrada no dicionario se o número nâo exitir no dicionário\n",
    "        else:\n",
    "            num_freq[num] = 1\n",
    "            \n",
    "    #Apos interagir com todos dados da variavel estabelecemos um dicionario\n",
    "    #O Dicionario representa a frequencia que cada entrada (valor da variavel) aparece na array\n",
    "    #Temos que identificar a frequencia maxima que um numero aparece\n",
    "    max_count = max(num_freq.values())\n",
    "    \n",
    "    #Precisamos retornar a chave da contagem maxima\n",
    "    #chave  do for contendo a contagem do numero mais frequente\n",
    "    mode = [num for num, count in num_freq.items() if count == max_count]\n",
    "    \n",
    "    #se a distribuição conter 2 ou mais modes\n",
    "    #Retormar para o usuario\n",
    "    if len(mode) == len(variable):\n",
    "        return \"No mode avaliable\"\n",
    "    return mode\n",
    "    "
   ]
  },
  {
   "cell_type": "code",
   "execution_count": 16,
   "id": "3415a7e9",
   "metadata": {},
   "outputs": [
    {
     "data": {
      "text/plain": [
       "'No mode avaliable'"
      ]
     },
     "execution_count": 16,
     "metadata": {},
     "output_type": "execute_result"
    }
   ],
   "source": [
    "calc_mode(dataset[\"Profit\"])"
   ]
  },
  {
   "cell_type": "code",
   "execution_count": null,
   "id": "cb964b0c",
   "metadata": {},
   "outputs": [],
   "source": []
  },
  {
   "cell_type": "code",
   "execution_count": null,
   "id": "fed3de84",
   "metadata": {},
   "outputs": [],
   "source": []
  },
  {
   "cell_type": "code",
   "execution_count": null,
   "id": "5387b583",
   "metadata": {},
   "outputs": [],
   "source": []
  },
  {
   "cell_type": "code",
   "execution_count": null,
   "id": "3918ec88",
   "metadata": {},
   "outputs": [],
   "source": []
  }
 ],
 "metadata": {
  "kernelspec": {
   "display_name": "Python 3 (ipykernel)",
   "language": "python",
   "name": "python3"
  },
  "language_info": {
   "codemirror_mode": {
    "name": "ipython",
    "version": 3
   },
   "file_extension": ".py",
   "mimetype": "text/x-python",
   "name": "python",
   "nbconvert_exporter": "python",
   "pygments_lexer": "ipython3",
   "version": "3.11.5"
  }
 },
 "nbformat": 4,
 "nbformat_minor": 5
}
