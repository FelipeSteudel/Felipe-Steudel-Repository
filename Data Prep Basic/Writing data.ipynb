{
 "cells": [
  {
   "cell_type": "markdown",
   "id": "d6c16029",
   "metadata": {},
   "source": [
    "## Writing data frame to a file\n",
    "\n",
    "### 1 Writing data frame to a file"
   ]
  },
  {
   "cell_type": "code",
   "execution_count": null,
   "id": "429379f1",
   "metadata": {},
   "outputs": [],
   "source": [
    "import seaborn as sns\n",
    "import pandas as pd"
   ]
  },
  {
   "cell_type": "code",
   "execution_count": null,
   "id": "f81c7c1e",
   "metadata": {},
   "outputs": [],
   "source": [
    "diamonds_df = sns.load_dataset('diamonds')"
   ]
  },
  {
   "cell_type": "code",
   "execution_count": null,
   "id": "2c0a47dc",
   "metadata": {},
   "outputs": [],
   "source": [
    "diamonds_df.to_csv('diamonds_modified.csv')"
   ]
  },
  {
   "cell_type": "code",
   "execution_count": null,
   "id": "93bc690c",
   "metadata": {},
   "outputs": [],
   "source": [
    "print(diamonds_df.head())"
   ]
  },
  {
   "cell_type": "code",
   "execution_count": null,
   "id": "e482453f",
   "metadata": {},
   "outputs": [],
   "source": [
    "diamonds_df.to_csv('diamonds_modified.csv', index=False)"
   ]
  },
  {
   "cell_type": "code",
   "execution_count": null,
   "id": "1e2480cd",
   "metadata": {},
   "outputs": [],
   "source": [
    "#Find the diamonds_modified.csv in the src directory"
   ]
  },
  {
   "cell_type": "code",
   "execution_count": null,
   "id": "b888430d",
   "metadata": {},
   "outputs": [],
   "source": []
  }
 ],
 "metadata": {
  "kernelspec": {
   "display_name": "Python 3 (ipykernel)",
   "language": "python",
   "name": "python3"
  },
  "language_info": {
   "codemirror_mode": {
    "name": "ipython",
    "version": 3
   },
   "file_extension": ".py",
   "mimetype": "text/x-python",
   "name": "python",
   "nbconvert_exporter": "python",
   "pygments_lexer": "ipython3",
   "version": "3.11.5"
  }
 },
 "nbformat": 4,
 "nbformat_minor": 5
}
